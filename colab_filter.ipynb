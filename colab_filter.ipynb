{
  "nbformat": 4,
  "nbformat_minor": 0,
  "metadata": {
    "colab": {
      "name": "colab_filter.ipynb",
      "provenance": [],
      "collapsed_sections": []
    },
    "kernelspec": {
      "name": "python3",
      "display_name": "Python 3"
    },
    "accelerator": "GPU"
  },
  "cells": [
    {
      "cell_type": "markdown",
      "metadata": {
        "id": "Q7oQfLsu-ZtP",
        "colab_type": "text"
      },
      "source": [
        "Here is an implementation of simple collaborative filtering recommendaation system. This is a practical solution of andrew ng's course in coursera. Thus i insist to watch that video first for easy understanding. "
      ]
    },
    {
      "cell_type": "code",
      "metadata": {
        "id": "4hYS_CN8ULNu",
        "colab_type": "code",
        "colab": {}
      },
      "source": [
        "import sklearn\n",
        "import random\n",
        "import math\n",
        "from google.colab import files\n",
        "from sklearn.metrics.pairwise import cosine_similarity\n",
        "import numpy as np\n",
        "import pandas as pd\n",
        "from sklearn.ensemble import ExtraTreesClassifier\n",
        "from scipy.stats import multivariate_normal\n",
        "import matplotlib.pyplot as plt\n",
        "from sklearn.metrics import accuracy_score, confusion_matrix, recall_score, precision_score, f1_score\n",
        "from sklearn.model_selection import train_test_split\n",
        "from sklearn import datasets\n",
        "import seaborn as sns"
      ],
      "execution_count": 0,
      "outputs": []
    },
    {
      "cell_type": "markdown",
      "metadata": {
        "id": "JTIy0eI2-4pZ",
        "colab_type": "text"
      },
      "source": [
        "importing necessary packages"
      ]
    },
    {
      "cell_type": "code",
      "metadata": {
        "id": "bi4zMDr4GmON",
        "colab_type": "code",
        "colab": {}
      },
      "source": [
        "def hypothesis(theta, x):\n",
        "  return np.dot(theta.T, x)"
      ],
      "execution_count": 0,
      "outputs": []
    },
    {
      "cell_type": "markdown",
      "metadata": {
        "id": "hSaFaNrW-821",
        "colab_type": "text"
      },
      "source": [
        "This is our hypothesis which returns weights*x for every weights and x\n",
        "it returns (W.X)"
      ]
    },
    {
      "cell_type": "code",
      "metadata": {
        "id": "FxuuqOdBG1O1",
        "colab_type": "code",
        "colab": {}
      },
      "source": [
        "def gradDesc(X,Y,thetas,m,alpha,iterations=10000):\n",
        "  for iterations in range(iterations):\n",
        "    for i in range(5):\n",
        "      for k in range(3):\n",
        "        gradient = 0\n",
        "        for j in range(4):\n",
        "          if y[i][j] != '?':\n",
        "            gradient += (hypothesis(thetas[j], X[i]) - int(Y[i][j])) * theta[j][k]\n",
        "        X[i][k] = X[i][k] -  (alpha * gradient)\n",
        "    i = 0\n",
        "    j = 0\n",
        "    k = 0\n",
        "    for j in range(4):\n",
        "      for k in range(3):\n",
        "        gradient = 0\n",
        "        for i in range(5):\n",
        "          if y[i][j] != '?':\n",
        "            gradient += (hypothesis(thetas[j], X[i]) - int(Y[i][j])) * X[i][k]\n",
        "        thetas[j][k] = thetas[j][k] -  (alpha * gradient)\n",
        "  return theta, X"
      ],
      "execution_count": 0,
      "outputs": []
    },
    {
      "cell_type": "markdown",
      "metadata": {
        "id": "wA96aMlB_UbK",
        "colab_type": "text"
      },
      "source": [
        "*   This is the iterative gradient descent algorithm which iteratively calculates the optimum features for the movies and also the missing values of the ratings given by the user.\n",
        "\n",
        "*    It automatically learns new features and thus improves them with the help of user preferences.\n",
        "\n",
        "![alt text](https://drive.google.com/uc?id=15Ljdq3zMv8FMha-Dg1fTW0CgCRJqvPSA)\n"
      ]
    },
    {
      "cell_type": "code",
      "metadata": {
        "id": "LYVS5vNBxeP9",
        "colab_type": "code",
        "outputId": "a92c2552-6f13-4e6b-8e68-39ab8a61ea3c",
        "colab": {
          "base_uri": "https://localhost:8080/",
          "height": 67
        }
      },
      "source": [
        "x = np.random.rand(5,2)     # There are 5 movies which consists of two features. Consider action and romance or action and comedy. Hence it's a 5x2 matrix.\n",
        "\n",
        "x = np.c_[np.ones((x.shape[0], 1)), x]   # adding a column of bias in our feature matrix. Thus it is now 5x3 matrix.\n",
        "\n",
        "y = [[5, 5, 0, 0], [5, '?', '?', 0], ['?', 4, 0, '?'], [0, 0, 5, 4], [0, 0, 5, '?']]      # we have 4 users and 5 movies. here is our 5x4 matrix depicting ratings given by user \n",
        "                                                                                          # j to movie i. if no rating is given it is depicted as '?' \n",
        "\n",
        "theta = np.random.randint(1, 6, size=(4, 2))     # initializing random set of parameters for each user between range 1 to 5. size is 4x2 as there are 4 users and 2 features for every movie.\n",
        "\n",
        "theta = np.c_[np.ones((theta.shape[0], 1)), theta]  # adding bias column. Hence 4x3 is the matrix.\n",
        "\n",
        "x = np.asarray(x)\n",
        "y = np.asarray(y)\n",
        "theta = np.asarray(theta)\n",
        "print(theta.shape)\n",
        "print(x.shape)\n",
        "print(y.shape)"
      ],
      "execution_count": 0,
      "outputs": [
        {
          "output_type": "stream",
          "text": [
            "(4, 3)\n",
            "(5, 3)\n",
            "(5, 4)\n"
          ],
          "name": "stdout"
        }
      ]
    },
    {
      "cell_type": "code",
      "metadata": {
        "id": "IWrrXYVqGCCM",
        "colab_type": "code",
        "colab": {}
      },
      "source": [
        "params, features = gradDesc(x, y, theta, len(x), 0.02)"
      ],
      "execution_count": 0,
      "outputs": []
    },
    {
      "cell_type": "markdown",
      "metadata": {
        "id": "oEMGXSHlE9Ko",
        "colab_type": "text"
      },
      "source": [
        "learning user parameters and features for movies."
      ]
    },
    {
      "cell_type": "code",
      "metadata": {
        "id": "P4DHbO5DLH1h",
        "colab_type": "code",
        "outputId": "827fc190-08b9-46a2-cfc5-9bc78ae12178",
        "colab": {
          "base_uri": "https://localhost:8080/",
          "height": 168
        }
      },
      "source": [
        "print(features)\n",
        "print(params)"
      ],
      "execution_count": 0,
      "outputs": [
        {
          "output_type": "stream",
          "text": [
            "[[ 0.9863976   1.18080123 -0.37506241]\n",
            " [ 0.92266409  1.1981059  -0.36991043]\n",
            " [ 0.92239435  0.91733393 -0.32596964]\n",
            " [ 0.82213891 -0.52900046  0.82654903]\n",
            " [ 0.82490246 -0.5296061   0.82601704]]\n",
            "[[1.11017356 3.71055565 1.27045859]\n",
            " [1.04860673 3.79959339 1.38885584]\n",
            " [1.18054364 0.70575598 5.32669448]\n",
            " [0.65580385 0.98169593 4.81538833]]\n"
          ],
          "name": "stdout"
        }
      ]
    },
    {
      "cell_type": "code",
      "metadata": {
        "id": "T00Bwkn9Nrcl",
        "colab_type": "code",
        "outputId": "76bf9f29-3648-4cc9-e4f7-3f31776039be",
        "colab": {
          "base_uri": "https://localhost:8080/",
          "height": 101
        }
      },
      "source": [
        "print(np.dot(features, params.T))"
      ],
      "execution_count": 0,
      "outputs": [
        {
          "output_type": "stream",
          "text": [
            "[[ 4.99999993e+00  5.00000007e+00  5.57950712e-08 -6.53022176e-08]\n",
            " [ 5.00000000e+00  5.00607476e+00 -3.55842010e-02 -5.14289181e-09]\n",
            " [ 4.01370547e+00  4.00000000e+00 -4.53393688e-09 -6.42176609e-02]\n",
            " [-7.24617454e-05  7.11777392e-05  4.99999978e+00  3.99999882e+00]\n",
            " [ 7.24247734e-05 -7.09892848e-05  5.00000109e+00  3.99865488e+00]]\n"
          ],
          "name": "stdout"
        }
      ]
    },
    {
      "cell_type": "markdown",
      "metadata": {
        "id": "HSdcT_2wFHe_",
        "colab_type": "text"
      },
      "source": [
        "We got all the values of ratings for the movies with the help of learning. we used (W.X) to find all the values including the missing ones."
      ]
    },
    {
      "cell_type": "markdown",
      "metadata": {
        "id": "zJlBWjKlOrJ9",
        "colab_type": "text"
      },
      "source": [
        "[ [5    5    0  0]\n",
        "  [5    5    0  0]\n",
        "  [4    4    0  0]\n",
        "  [0    0    5  4]\n",
        "  [0    0    5  4] ]\n"
      ]
    },
    {
      "cell_type": "code",
      "metadata": {
        "id": "tvEPR96k83OO",
        "colab_type": "code",
        "outputId": "1d94daa1-e191-44ab-ff92-c16f89d25864",
        "colab": {
          "base_uri": "https://localhost:8080/",
          "height": 101
        }
      },
      "source": [
        "print(cosine_similarity(features))"
      ],
      "execution_count": 0,
      "outputs": [
        {
          "output_type": "stream",
          "text": [
            "[[ 1.          0.99925638  0.99597541 -0.06101206 -0.05984313]\n",
            " [ 0.99925638  1.          0.99179911 -0.09081175 -0.08967977]\n",
            " [ 0.99597541  0.99179911  1.          0.00211796  0.00337563]\n",
            " [-0.06101206 -0.09081175  0.00211796  1.          0.99999834]\n",
            " [-0.05984313 -0.08967977  0.00337563  0.99999834  1.        ]]\n"
          ],
          "name": "stdout"
        }
      ]
    },
    {
      "cell_type": "markdown",
      "metadata": {
        "id": "-GkXcqXYFUoB",
        "colab_type": "text"
      },
      "source": [
        "In recommender systems there is a similarity metric which shows how closely one movie is related to other. There are many other methods to do so\n",
        "\n",
        "\n",
        "*   Euclidian distance\n",
        "*   Cosine similarity\n",
        "\n",
        "\n",
        "1.   If you want to recommend nearest ten movies according to a given movie, recommend the ones which have the least Euclidian distance from the given movie.\n",
        "\n",
        "2.   If we use cosine similarity recommend the ones having highest similarity with our given movie\n",
        "\n"
      ]
    }
  ]
}