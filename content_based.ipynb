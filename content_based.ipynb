{
  "nbformat": 4,
  "nbformat_minor": 0,
  "metadata": {
    "colab": {
      "name": "content_based.ipynb",
      "provenance": [],
      "collapsed_sections": []
    },
    "kernelspec": {
      "name": "python3",
      "display_name": "Python 3"
    }
  },
  "cells": [
    {
      "cell_type": "code",
      "metadata": {
        "id": "aNbP0dTpyi1k",
        "colab_type": "code",
        "colab": {}
      },
      "source": [
        "import sklearn\n",
        "import random\n",
        "import math\n",
        "from google.colab import files\n",
        "import numpy as np\n",
        "import pandas as pd\n",
        "from sklearn.ensemble import ExtraTreesClassifier\n",
        "from scipy.stats import multivariate_normal\n",
        "import matplotlib.pyplot as plt\n",
        "from sklearn.metrics import accuracy_score, confusion_matrix, recall_score, precision_score, f1_score\n",
        "from sklearn.model_selection import train_test_split\n",
        "from sklearn import datasets\n",
        "import seaborn as sns"
      ],
      "execution_count": 0,
      "outputs": []
    },
    {
      "cell_type": "code",
      "metadata": {
        "id": "vOqMntzE3y1q",
        "colab_type": "code",
        "colab": {}
      },
      "source": [
        "def hypothesis(theta, x):\n",
        "  return np.dot(theta.T, x)"
      ],
      "execution_count": 0,
      "outputs": []
    },
    {
      "cell_type": "code",
      "metadata": {
        "id": "uAIy8K7m36og",
        "colab_type": "code",
        "colab": {}
      },
      "source": [
        "def gradDesc(X,Y,thetas,m,alpha,iterations=10000):\n",
        "  for iterations in range(iterations):\n",
        "    for j in range(4):\n",
        "      for k in range(3):\n",
        "        gradient = 0\n",
        "        for i in range(5):\n",
        "          if y[i][j] != '?':\n",
        "            gradient += (hypothesis(thetas[j], X[i]) - int(Y[i][j])) * X[i][k]\n",
        "        thetas[j][k] = thetas[j][k] -  (alpha * gradient)\n",
        "  return theta"
      ],
      "execution_count": 0,
      "outputs": []
    },
    {
      "cell_type": "code",
      "metadata": {
        "id": "mgpki19XzcS3",
        "colab_type": "code",
        "colab": {}
      },
      "source": [
        "x = [[1, 0.9, 0], [1, 1, 0.01], [1, 0.99, 0], [1, 0.1, 1], [1, 0, 0.9]]\n",
        "y = [[7, 9, 3, 1], [5, 6, '?', 0], ['?', 8, 10, '?'], [0, 10, 1, 6], [0, 0, 5, '?']]\n",
        "x = np.asarray(x)\n",
        "y = np.asarray(y)"
      ],
      "execution_count": 0,
      "outputs": []
    },
    {
      "cell_type": "code",
      "metadata": {
        "id": "F76InVhT0NQI",
        "colab_type": "code",
        "outputId": "5e6a7a01-d5fa-4795-d417-5d692525c5b7",
        "colab": {
          "base_uri": "https://localhost:8080/",
          "height": 84
        }
      },
      "source": [
        "theta = np.random.rand(4,2)\n",
        "theta = np.c_[np.ones((theta.shape[0], 1)), theta]\n",
        "print(theta)"
      ],
      "execution_count": 0,
      "outputs": [
        {
          "output_type": "stream",
          "text": [
            "[[1.         0.26346104 0.00463048]\n",
            " [1.         0.50416235 0.60901672]\n",
            " [1.         0.59910004 0.60860965]\n",
            " [1.         0.71424668 0.51004503]]\n"
          ],
          "name": "stdout"
        }
      ]
    },
    {
      "cell_type": "code",
      "metadata": {
        "id": "JSOgU1K_1Mq1",
        "colab_type": "code",
        "colab": {}
      },
      "source": [
        "params = gradDesc(x, y, theta, len(x), 0.02)"
      ],
      "execution_count": 0,
      "outputs": []
    },
    {
      "cell_type": "code",
      "metadata": {
        "id": "FQ3-Uc5f7FG6",
        "colab_type": "code",
        "outputId": "b76dc613-5eda-4730-d2df-6e5b9d127d2c",
        "colab": {
          "base_uri": "https://localhost:8080/",
          "height": 151
        }
      },
      "source": [
        "print(theta)\n",
        "print(params) "
      ],
      "execution_count": 0,
      "outputs": [
        {
          "output_type": "stream",
          "text": [
            "[[  6.83125428  -0.86311209  -7.12396438]\n",
            " [-19.74763978  28.32545744  24.65225082]\n",
            " [  7.16841557  -0.61810335  -4.4480105 ]\n",
            " [  4.8097714   -4.55497934   1.65288476]]\n",
            "[[  6.83125428  -0.86311209  -7.12396438]\n",
            " [-19.74763978  28.32545744  24.65225082]\n",
            " [  7.16841557  -0.61810335  -4.4480105 ]\n",
            " [  4.8097714   -4.55497934   1.65288476]]\n"
          ],
          "name": "stdout"
        }
      ]
    },
    {
      "cell_type": "code",
      "metadata": {
        "id": "fcgAV1NSBtBa",
        "colab_type": "code",
        "outputId": "934cd467-3566-46b1-c423-22c232fea2d2",
        "colab": {
          "base_uri": "https://localhost:8080/",
          "height": 101
        }
      },
      "source": [
        "print(np.dot(params[1].T, x[1]))\n",
        "print(np.dot(params[2].T, x[1]))\n",
        "print(np.dot(params[0].T, x[2]))\n",
        "print(np.dot(params[3].T, x[2]))\n",
        "print(np.dot(params[3].T, x[4]))"
      ],
      "execution_count": 0,
      "outputs": [
        {
          "output_type": "stream",
          "text": [
            "8.824340165835917\n",
            "6.505832111535556\n",
            "5.9767733119634325\n",
            "0.3003418529845989\n",
            "6.297367682048931\n"
          ],
          "name": "stdout"
        }
      ]
    },
    {
      "cell_type": "code",
      "metadata": {
        "id": "OSDOXsoMCyu9",
        "colab_type": "code",
        "outputId": "df58ba6e-a0ac-4f8e-bd7d-44ddef4fd3a0",
        "colab": {
          "base_uri": "https://localhost:8080/",
          "height": 101
        }
      },
      "source": [
        "print(np.dot(x, params.T))"
      ],
      "execution_count": 0,
      "outputs": [
        {
          "output_type": "stream",
          "text": [
            "[[ 6.0544534   5.74527191  6.61212255  0.71028999]\n",
            " [ 5.89690255  8.82434017  6.50583211  0.27132091]\n",
            " [ 5.97677331  8.29456308  6.55649325  0.30034185]\n",
            " [-0.37902131  7.73715678  2.65859473  6.00715822]\n",
            " [ 0.41968634  2.43938596  3.16520612  6.29736768]]\n"
          ],
          "name": "stdout"
        }
      ]
    }
  ]
}